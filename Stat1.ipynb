{
 "cells": [
  {
   "cell_type": "code",
   "execution_count": 8,
   "metadata": {},
   "outputs": [
    {
     "name": "stdout",
     "output_type": "stream",
     "text": [
      "Standard deviation is : $ 335.92740617910624\n"
     ]
    }
   ],
   "source": [
    "import numpy as np\n",
    "#Question:-1 storing dataset in 'x' list\n",
    "x = [1550, 1700, 900, 850, 1000, 950]\n",
    "std_1 = np.std(x)\n",
    "print(\"Standard deviation is : $\",std_1)"
   ]
  },
  {
   "cell_type": "code",
   "execution_count": 9,
   "metadata": {},
   "outputs": [
    {
     "name": "stdout",
     "output_type": "stream",
     "text": [
      "Variance of the data is:  5183.25\n"
     ]
    }
   ],
   "source": [
    "\n",
    "#Question:-2 storing dataset in 'y' list\n",
    "y = [3, 21, 98, 203, 17, 9]\n",
    "var_1 = np.var(y)\n",
    "print(\"Variance of the data is: \",var_1)"
   ]
  },
  {
   "cell_type": "code",
   "execution_count": 10,
   "metadata": {},
   "outputs": [
    {
     "name": "stdout",
     "output_type": "stream",
     "text": [
      "p[x=0] =  0.8\n",
      "p[x=1] =  0.1\n",
      "p[x=2] =  0.07\n",
      "p[x=3] =  0.03\n"
     ]
    }
   ],
   "source": [
    "#Question:-3 storing the no. of students passed in each subject in 'z' list\n",
    "z = np.array([80,10,7,3])\n",
    "p0 = z[0]/sum(z)\n",
    "p1 = z[1]/sum(z)\n",
    "p2 = z[2]/sum(z)\n",
    "p3 = z[3]/sum(z)\n",
    "print(\"p[x=0] = \",p0)\n",
    "print(\"p[x=1] = \",p1)\n",
    "print(\"p[x=2] = \",p2)\n",
    "print(\"p[x=3] = \",p3)"
   ]
  },
  {
   "cell_type": "code",
   "execution_count": null,
   "metadata": {},
   "outputs": [],
   "source": []
  }
 ],
 "metadata": {
  "kernelspec": {
   "display_name": "Python 3",
   "language": "python",
   "name": "python3"
  },
  "language_info": {
   "codemirror_mode": {
    "name": "ipython",
    "version": 3
   },
   "file_extension": ".py",
   "mimetype": "text/x-python",
   "name": "python",
   "nbconvert_exporter": "python",
   "pygments_lexer": "ipython3",
   "version": "3.6.5"
  },
  "varInspector": {
   "cols": {
    "lenName": 16,
    "lenType": 16,
    "lenVar": 40
   },
   "kernels_config": {
    "python": {
     "delete_cmd_postfix": "",
     "delete_cmd_prefix": "del ",
     "library": "var_list.py",
     "varRefreshCmd": "print(var_dic_list())"
    },
    "r": {
     "delete_cmd_postfix": ") ",
     "delete_cmd_prefix": "rm(",
     "library": "var_list.r",
     "varRefreshCmd": "cat(var_dic_list()) "
    }
   },
   "types_to_exclude": [
    "module",
    "function",
    "builtin_function_or_method",
    "instance",
    "_Feature"
   ],
   "window_display": false
  }
 },
 "nbformat": 4,
 "nbformat_minor": 2
}
